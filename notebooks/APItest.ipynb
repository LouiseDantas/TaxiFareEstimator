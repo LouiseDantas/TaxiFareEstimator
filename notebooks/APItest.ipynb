{
 "cells": [
  {
   "cell_type": "code",
   "execution_count": 1,
   "id": "5d1cb011",
   "metadata": {},
   "outputs": [],
   "source": [
    "import requests"
   ]
  },
  {
   "cell_type": "code",
   "execution_count": 7,
   "id": "6c668dc0",
   "metadata": {},
   "outputs": [
    {
     "data": {
      "text/plain": [
       "{'fare': 9.181915636083888}"
      ]
     },
     "execution_count": 7,
     "metadata": {},
     "output_type": "execute_result"
    }
   ],
   "source": [
    "url = \"http://127.0.0.1:8000/predict\"\n",
    "params={\n",
    "    \"pickup_datetime\": '2013-07-06 17:18:00',\n",
    "    \"pickup_longitude\": -73.950655,\n",
    "    \"pickup_latitude\": 40.783282,\n",
    "    \"dropoff_longitude\": -73.984365,\n",
    "    \"dropoff_latitude\": 40.769802,\n",
    "    \"passenger_count\": 1\n",
    "}\n",
    "response= requests.get(url,params)\n",
    "response.json()"
   ]
  },
  {
   "cell_type": "code",
   "execution_count": null,
   "id": "7db7a95a",
   "metadata": {},
   "outputs": [],
   "source": []
  }
 ],
 "metadata": {
  "kernelspec": {
   "display_name": "Python 3 (ipykernel)",
   "language": "python",
   "name": "python3"
  },
  "language_info": {
   "codemirror_mode": {
    "name": "ipython",
    "version": 3
   },
   "file_extension": ".py",
   "mimetype": "text/x-python",
   "name": "python",
   "nbconvert_exporter": "python",
   "pygments_lexer": "ipython3",
   "version": "3.8.12"
  },
  "toc": {
   "base_numbering": 1,
   "nav_menu": {},
   "number_sections": true,
   "sideBar": true,
   "skip_h1_title": false,
   "title_cell": "Table of Contents",
   "title_sidebar": "Contents",
   "toc_cell": false,
   "toc_position": {},
   "toc_section_display": true,
   "toc_window_display": false
  }
 },
 "nbformat": 4,
 "nbformat_minor": 5
}
